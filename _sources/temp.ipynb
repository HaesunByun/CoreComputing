{
  "nbformat": 4,
  "nbformat_minor": 0,
  "metadata": {
    "colab": {
      "name": "tmep.ipynb",
      "provenance": [],
      "authorship_tag": "ABX9TyPbgrWG8+r81eBkYja3M8gZ",
      "include_colab_link": true
    },
    "kernelspec": {
      "name": "python3",
      "display_name": "Python 3"
    },
    "language_info": {
      "name": "python"
    }
  },
  "cells": [
    {
      "cell_type": "markdown",
      "metadata": {
        "id": "view-in-github",
        "colab_type": "text"
      },
      "source": [
        "<a href=\"https://colab.research.google.com/github/haesun-class/haesun-class.github.io/blob/main/tmep.ipynb\" target=\"_parent\"><img src=\"https://colab.research.google.com/assets/colab-badge.svg\" alt=\"Open In Colab\"/></a>"
      ]
    },
    {
      "cell_type": "code",
      "metadata": {
        "id": "qwpmb0Ybi27G"
      },
      "source": [
        "f = 100\n",
        "c = 5.0/9.0 * (f - 32.0)\n",
        "print(f, '°F')\n",
        "print(\"%.2f\"%f, '°F')\n",
        "print(c, '°C')"
      ],
      "execution_count": null,
      "outputs": []
    }
  ]
}
